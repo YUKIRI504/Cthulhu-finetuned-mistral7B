{
  "nbformat": 4,
  "nbformat_minor": 0,
  "metadata": {
    "colab": {
      "provenance": [],
      "machine_shape": "hm",
      "gpuType": "A100"
    },
    "kernelspec": {
      "name": "python3",
      "display_name": "Python 3"
    },
    "language_info": {
      "name": "python"
    },
    "accelerator": "GPU"
  },
  "cells": [
    {
      "cell_type": "code",
      "source": [
        "# ライブラリのインストール\n",
        "!pip install -q transformers datasets peft accelerate bitsandbytes huggingface_hub"
      ],
      "metadata": {
        "id": "ux9_1-brOom-"
      },
      "execution_count": 1,
      "outputs": []
    },
    {
      "cell_type": "code",
      "source": [
        "# Hugging Face Hub へのログイン\n",
        "import os\n",
        "\n",
        "hf_token = input(\"Enter your HuggingFace token: \")\n",
        "os.environ[\"HF_TOKEN\"] = hf_token\n",
        "\n",
        "!huggingface-cli login --token $hf_token --add-to-git-credential\n",
        "print(\"Hugging Faceにログインしました。\")"
      ],
      "metadata": {
        "id": "lDouXRoll0B9"
      },
      "execution_count": null,
      "outputs": []
    },
    {
      "cell_type": "code",
      "source": [
        "# データセットの読み込みとトークナイズ\n",
        "from datasets import load_dataset\n",
        "\n",
        "dataset = load_dataset(\"json\", data_files=\"data_lora_formatted.json\")\n",
        "print(dataset)\n",
        "\n",
        "# Mistral-7B-Instructを使用\n",
        "# プロンプト形式例: \"<s>[INST] {instruction} [/INST] {response}</s>\"\n",
        "\n",
        "from transformers import AutoTokenizer\n",
        "\n",
        "model_name = \"mistralai/Mistral-7B-Instruct-v0.2\"\n",
        "tokenizer = AutoTokenizer.from_pretrained(model_name, trust_remote_code=True)\n",
        "\n",
        "if tokenizer.pad_token is None:\n",
        "    tokenizer.pad_token = tokenizer.eos_token\n",
        "\n",
        "def build_prompt_and_tokenize(example):\n",
        "    instruction = example[\"instruction\"]\n",
        "    response = example[\"response\"]\n",
        "    # プロンプト作成\n",
        "    prompt_text = f\"<s>[INST] {instruction.strip()} [/INST] {response.strip()}</s>\"\n",
        "\n",
        "    # トークナイズ\n",
        "    tokenized = tokenizer(\n",
        "        prompt_text,\n",
        "        truncation=True,\n",
        "        max_length=512,\n",
        "        padding=\"max_length\",\n",
        "    )\n",
        "    return tokenized\n",
        "\n",
        "train_dataset = dataset[\"train\"].map(\n",
        "    build_prompt_and_tokenize,\n",
        "    remove_columns=dataset[\"train\"].column_names\n",
        ")\n",
        "\n",
        "print(\"トークナイズ後のサンプル:\", train_dataset[0])\n"
      ],
      "metadata": {
        "id": "XRByukLjTWGI"
      },
      "execution_count": null,
      "outputs": []
    },
    {
      "cell_type": "code",
      "source": [
        "# モデルロード、LoRAアダプタ\n",
        "import torch\n",
        "from transformers import AutoModelForCausalLM\n",
        "from peft import prepare_model_for_kbit_training, LoraConfig, get_peft_model\n",
        "\n",
        "model = AutoModelForCausalLM.from_pretrained(\n",
        "    model_name,\n",
        "    load_in_8bit=True,       # 8bit量子化\n",
        "    device_map=\"auto\",\n",
        "    trust_remote_code=True,\n",
        ")\n",
        "\n",
        "# LoRA対応\n",
        "model = prepare_model_for_kbit_training(model)\n",
        "\n",
        "# パディングトークンID\n",
        "model.config.pad_token_id = tokenizer.pad_token_id\n",
        "\n",
        "# ハイパーパラメータ\n",
        "lora_config = LoraConfig(\n",
        "    r=8,\n",
        "    lora_alpha=16,\n",
        "    target_modules=[\n",
        "        \"q_proj\",\"v_proj\",\"k_proj\",\"o_proj\",\n",
        "        \"gate_proj\",\"up_proj\",\"down_proj\"\n",
        "    ],\n",
        "    lora_dropout=0.1,\n",
        "    bias=\"none\",\n",
        "    task_type=\"CAUSAL_LM\"\n",
        ")\n",
        "\n",
        "model = get_peft_model(model, lora_config)\n",
        "\n",
        "# 学習可能パラメータ\n",
        "model.print_trainable_parameters()\n"
      ],
      "metadata": {
        "id": "Xqa6dhYHTfHr"
      },
      "execution_count": null,
      "outputs": []
    },
    {
      "cell_type": "code",
      "source": [
        "# ファインチューニング実行\n",
        "from transformers import Trainer, TrainingArguments, DataCollatorForLanguageModeling\n",
        "\n",
        "# パディング部分を無視して言語モデル学習を行うデータコラレータ\n",
        "data_collator = DataCollatorForLanguageModeling(\n",
        "    tokenizer=tokenizer,\n",
        "    mlm=False,\n",
        ")\n",
        "\n",
        "training_args = TrainingArguments(\n",
        "    output_dir=\"lora-output\",\n",
        "    overwrite_output_dir=True,\n",
        "    num_train_epochs=2,\n",
        "    per_device_train_batch_size=1,\n",
        "    gradient_accumulation_steps=4,\n",
        "    fp16=True,\n",
        "    learning_rate=1e-4,\n",
        "    logging_steps=10,\n",
        "    save_strategy=\"epoch\",\n",
        "    report_to=\"none\",\n",
        ")\n",
        "\n",
        "# キャッシュ無効\n",
        "model.config.use_cache = False\n",
        "\n",
        "trainer = Trainer(\n",
        "    model=model,\n",
        "    train_dataset=train_dataset,\n",
        "    args=training_args,\n",
        "    data_collator=data_collator,\n",
        ")\n",
        "\n",
        "trainer.train()\n"
      ],
      "metadata": {
        "id": "Gljgq9TKTiIZ"
      },
      "execution_count": null,
      "outputs": []
    },
    {
      "cell_type": "code",
      "source": [
        "# 学習済みLoRAアダプタを保存\n",
        "trainer.model.save_pretrained(\"lora-output\")\n",
        "tokenizer.save_pretrained(\"lora-output\")\n",
        "\n",
        "print(\"学習済みモデル一式を lora-output フォルダに保存しました。\")\n"
      ],
      "metadata": {
        "colab": {
          "base_uri": "https://localhost:8080/"
        },
        "id": "hGqs4c_0Tkky",
        "outputId": "3aaa993f-ba80-4938-8e3b-e2346e5310d7"
      },
      "execution_count": 6,
      "outputs": [
        {
          "output_type": "stream",
          "name": "stdout",
          "text": [
            "学習済みモデル一式を lora-output フォルダに保存しました。\n"
          ]
        }
      ]
    },
    {
      "cell_type": "code",
      "source": [
        "# ベースモデル + LoRAアダプタを再ロードしてgenerate()\n",
        "import torch\n",
        "from transformers import AutoTokenizer, AutoModelForCausalLM\n",
        "from peft import PeftModel\n",
        "\n",
        "base_model = AutoModelForCausalLM.from_pretrained(\n",
        "    model_name,\n",
        "    device_map=\"auto\",\n",
        "    torch_dtype=torch.float16,\n",
        "    trust_remote_code=True\n",
        ")\n",
        "\n",
        "# 学習済みLoRA\n",
        "lora_model = PeftModel.from_pretrained(\n",
        "    base_model,\n",
        "    \"lora-output\",  # 自分の出力ディレクトリ\n",
        ")\n",
        "lora_model.eval()\n",
        "\n",
        "# 推論用トークナイザ\n",
        "tokenizer = AutoTokenizer.from_pretrained(\"lora-output\", trust_remote_code=True)\n"
      ],
      "metadata": {
        "id": "mE9yCgleTmAM"
      },
      "execution_count": null,
      "outputs": []
    },
    {
      "cell_type": "code",
      "source": [
        "prompt = \"<s>[INST] アザトース について教えてください。 [/INST]\"\n",
        "inputs = tokenizer(prompt, return_tensors=\"pt\").to(\"cuda\")\n",
        "with torch.no_grad():\n",
        "    outputs = lora_model.generate(\n",
        "        **inputs,\n",
        "        max_new_tokens=200,\n",
        "        temperature=0.7,\n",
        "        do_sample=True\n",
        "    )\n",
        "print(tokenizer.decode(outputs[0], skip_special_tokens=True))"
      ],
      "metadata": {
        "id": "abXdtMAiiwGA"
      },
      "execution_count": null,
      "outputs": []
    }
  ]
}